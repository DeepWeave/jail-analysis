{
 "cells": [
  {
   "cell_type": "markdown",
   "id": "530444d2",
   "metadata": {},
   "source": [
    "# Map of levels:\n",
    "\n",
    "Level|Misdemeanor Description| |Level|Felony Description| |Level |Misc Description|\n",
    ":-----|:-----------| |:-----|:-----------| |:---------|:-----------|\n",
    "1|Class 3| |5|Class I| |-1|NONE|\n",
    "2|Class 2| |6|Class H| |-2|5305|\n",
    "3|Class 1| |7|Class G| |-3|??|\n",
    "4|Class A1| |8|Class F| | |\n",
    "|| |9|Class E| | | |\n",
    "|| |10|Class D| | | |\n",
    "|| |11|Class C| | | |\n",
    "|| |12|Class B2| | | |\n",
    "|| |13|Class B1| | | |\n",
    "|| |14|Class A| | | |\n"
   ]
  },
  {
   "cell_type": "code",
   "execution_count": null,
   "id": "521db5d9",
   "metadata": {},
   "outputs": [],
   "source": []
  }
 ],
 "metadata": {
  "kernelspec": {
   "display_name": "Python 3 (ipykernel)",
   "language": "python",
   "name": "python3"
  },
  "language_info": {
   "codemirror_mode": {
    "name": "ipython",
    "version": 3
   },
   "file_extension": ".py",
   "mimetype": "text/x-python",
   "name": "python",
   "nbconvert_exporter": "python",
   "pygments_lexer": "ipython3",
   "version": "3.9.7"
  }
 },
 "nbformat": 4,
 "nbformat_minor": 5
}
